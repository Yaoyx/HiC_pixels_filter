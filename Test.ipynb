{
 "cells": [
  {
   "cell_type": "code",
   "execution_count": null,
   "metadata": {},
   "outputs": [],
   "source": [
    "import os \n",
    "import sys\n",
    "cwd = os.getcwd()\n",
    "sys.path.append(cwd)\n",
    "import test_func\n",
    "\n",
    "test_func.test_cis_total_filter(0.5)"
   ]
  }
 ],
 "metadata": {
  "kernelspec": {
   "display_name": "akita",
   "language": "python",
   "name": "python3"
  },
  "language_info": {
   "name": "python",
   "version": "3.9.18"
  }
 },
 "nbformat": 4,
 "nbformat_minor": 2
}
